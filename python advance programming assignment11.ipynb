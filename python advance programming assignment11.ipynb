{
 "cells": [
  {
   "cell_type": "code",
   "execution_count": 1,
   "id": "d73ebd71",
   "metadata": {},
   "outputs": [],
   "source": [
    "#1. Create a function that takes a list and returns a new list containing only prime numbers.\n",
    "def filter_primes(l):\n",
    "    for i in range(len(l)-1,-1,-1):\n",
    "        for j in range(2,l[i]//2+1):\n",
    "            if l[i]%j==0:\n",
    "                l.remove(l[i])\n",
    "                break\n",
    "    return l\n",
    "        "
   ]
  },
  {
   "cell_type": "code",
   "execution_count": 2,
   "id": "eb0f89f4",
   "metadata": {},
   "outputs": [
    {
     "data": {
      "text/plain": [
       "[7, 3, 11]"
      ]
     },
     "execution_count": 2,
     "metadata": {},
     "output_type": "execute_result"
    }
   ],
   "source": [
    "filter_primes([7, 9, 3, 9, 10, 11, 27])"
   ]
  },
  {
   "cell_type": "code",
   "execution_count": 3,
   "id": "239d04be",
   "metadata": {},
   "outputs": [
    {
     "data": {
      "text/plain": [
       "[10007, 1009]"
      ]
     },
     "execution_count": 3,
     "metadata": {},
     "output_type": "execute_result"
    }
   ],
   "source": [
    "filter_primes([10007, 1009, 1007, 27, 147, 77, 1001, 70])"
   ]
  },
  {
   "cell_type": "code",
   "execution_count": 4,
   "id": "a6a23940",
   "metadata": {},
   "outputs": [
    {
     "data": {
      "text/plain": [
       "[1009, 3, 1, 61, 1087, 1091, 1093, 1097]"
      ]
     },
     "execution_count": 4,
     "metadata": {},
     "output_type": "execute_result"
    }
   ],
   "source": [
    "filter_primes([1009, 10, 10, 10, 3, 33, 9, 4, 1, 61, 63, 69, 1087, 1091, 1093,1097])"
   ]
  },
  {
   "cell_type": "code",
   "execution_count": 5,
   "id": "a8751b7a",
   "metadata": {},
   "outputs": [],
   "source": [
    "'''2.Once a water balloon pops, is soaks the area around it.The ground gets drier the further away you travel from the balloon.\n",
    "The effect of a water balloon popping can be modeled using a list. Create a function that takes a list which takes the\n",
    "pre-pop state and returns the state after the balloon is popped. The pre-pop state will contain at most a single\n",
    "balloon, whose size is represented by the only non-zero element.'''\n",
    "def pop(l):\n",
    "    for i in set(l):\n",
    "        if l.count(i)==1:\n",
    "            x=l.index(i)\n",
    "            e=i\n",
    "    r=1\n",
    "    while(e!=0):\n",
    "        e-=1\n",
    "        l[x-r]=l[x+r]=e\n",
    "        r+=1\n",
    "    return l\n",
    "        "
   ]
  },
  {
   "cell_type": "code",
   "execution_count": 6,
   "id": "8c531475",
   "metadata": {},
   "outputs": [
    {
     "data": {
      "text/plain": [
       "[0, 1, 2, 3, 4, 3, 2, 1, 0]"
      ]
     },
     "execution_count": 6,
     "metadata": {},
     "output_type": "execute_result"
    }
   ],
   "source": [
    "pop([0, 0, 0, 0, 4, 0, 0, 0, 0])"
   ]
  },
  {
   "cell_type": "code",
   "execution_count": 7,
   "id": "4df22a7c",
   "metadata": {},
   "outputs": [
    {
     "data": {
      "text/plain": [
       "[0, 1, 2, 3, 2, 1, 0]"
      ]
     },
     "execution_count": 7,
     "metadata": {},
     "output_type": "execute_result"
    }
   ],
   "source": [
    "pop([0, 0, 0, 3, 0, 0, 0])"
   ]
  },
  {
   "cell_type": "code",
   "execution_count": 8,
   "id": "96b3c04d",
   "metadata": {},
   "outputs": [
    {
     "data": {
      "text/plain": [
       "[0, 1, 2, 1, 0]"
      ]
     },
     "execution_count": 8,
     "metadata": {},
     "output_type": "execute_result"
    }
   ],
   "source": [
    "pop([0, 0, 2, 0, 0])"
   ]
  },
  {
   "cell_type": "code",
   "execution_count": 9,
   "id": "d1b17165",
   "metadata": {},
   "outputs": [
    {
     "data": {
      "text/plain": [
       "[0]"
      ]
     },
     "execution_count": 9,
     "metadata": {},
     "output_type": "execute_result"
    }
   ],
   "source": [
    "pop([0]) "
   ]
  },
  {
   "cell_type": "code",
   "execution_count": 10,
   "id": "4e9f7a9b",
   "metadata": {},
   "outputs": [],
   "source": [
    "'''3.\"Loves me, loves me not\" is a traditional game in which a person plucks off all the petals of a flower one by one, \n",
    "saying the phrase \"Loves me\" and \"Loves me not\" when determining whether the one that they love, loves them\n",
    "back.Given a number of petals, return a string which repeats the phrases \"Loves me\" and \"Loves me not\" for every alternating\n",
    "petal, and return the last phrase in all caps. Remember to put a comma and space between phrases.'''\n",
    "def loves_me(n):\n",
    "    d={0:\"Loves me\",1:\"Loves me not\"}\n",
    "    l=0\n",
    "    s=\"\"\n",
    "    for i in range(n):\n",
    "        if i==n-1:\n",
    "            s+=d[l].upper()\n",
    "        else:\n",
    "            s+=(d[l]+\",\")\n",
    "            if l==0:\n",
    "                l+=1\n",
    "            elif l==1:\n",
    "                l-=1\n",
    "    return s"
   ]
  },
  {
   "cell_type": "code",
   "execution_count": 11,
   "id": "ea0511ae",
   "metadata": {},
   "outputs": [
    {
     "data": {
      "text/plain": [
       "'Loves me,Loves me not,LOVES ME'"
      ]
     },
     "execution_count": 11,
     "metadata": {},
     "output_type": "execute_result"
    }
   ],
   "source": [
    "loves_me(3)"
   ]
  },
  {
   "cell_type": "code",
   "execution_count": 12,
   "id": "2eaf716a",
   "metadata": {},
   "outputs": [
    {
     "data": {
      "text/plain": [
       "'Loves me,Loves me not,Loves me,Loves me not,Loves me,LOVES ME NOT'"
      ]
     },
     "execution_count": 12,
     "metadata": {},
     "output_type": "execute_result"
    }
   ],
   "source": [
    "loves_me(6)"
   ]
  },
  {
   "cell_type": "code",
   "execution_count": 13,
   "id": "d671cb19",
   "metadata": {},
   "outputs": [
    {
     "data": {
      "text/plain": [
       "'LOVES ME'"
      ]
     },
     "execution_count": 13,
     "metadata": {},
     "output_type": "execute_result"
    }
   ],
   "source": [
    "loves_me(1)"
   ]
  },
  {
   "cell_type": "code",
   "execution_count": 14,
   "id": "8c0073d5",
   "metadata": {},
   "outputs": [],
   "source": [
    "#4. Write a function that sorts each string in a list by the letter in alphabetic ascending order (a-z).\n",
    "import re\n",
    "def sort_by_letter(l):\n",
    "    d={}\n",
    "    t=[]\n",
    "    for i in l:\n",
    "        s=re.findall(r'\\D',i)\n",
    "        d[s[0]]=i\n",
    "    m=list(d.keys())\n",
    "    m.sort()\n",
    "    for i in m:\n",
    "        t.append(d[i])\n",
    "    return t"
   ]
  },
  {
   "cell_type": "code",
   "execution_count": 15,
   "id": "d257dd5f",
   "metadata": {},
   "outputs": [
    {
     "data": {
      "text/plain": [
       "['2344b', '932c', '832u32']"
      ]
     },
     "execution_count": 15,
     "metadata": {},
     "output_type": "execute_result"
    }
   ],
   "source": [
    "sort_by_letter([\"932c\", \"832u32\", \"2344b\"])"
   ]
  },
  {
   "cell_type": "code",
   "execution_count": 16,
   "id": "5500a4df",
   "metadata": {},
   "outputs": [
    {
     "data": {
      "text/plain": [
       "['99a', '78b', 'c2345', '11d']"
      ]
     },
     "execution_count": 16,
     "metadata": {},
     "output_type": "execute_result"
    }
   ],
   "source": [
    "sort_by_letter([\"99a\", \"78b\", \"c2345\", \"11d\"])"
   ]
  },
  {
   "cell_type": "code",
   "execution_count": 17,
   "id": "670e417c",
   "metadata": {},
   "outputs": [
    {
     "data": {
      "text/plain": [
       "['304q2', '5y5', '572z']"
      ]
     },
     "execution_count": 17,
     "metadata": {},
     "output_type": "execute_result"
    }
   ],
   "source": [
    "sort_by_letter([\"572z\", \"5y5\", \"304q2\"])"
   ]
  },
  {
   "cell_type": "code",
   "execution_count": 18,
   "id": "0fdd6554",
   "metadata": {},
   "outputs": [
    {
     "data": {
      "text/plain": [
       "[]"
      ]
     },
     "execution_count": 18,
     "metadata": {},
     "output_type": "execute_result"
    }
   ],
   "source": [
    "sort_by_letter([])"
   ]
  },
  {
   "cell_type": "code",
   "execution_count": 19,
   "id": "5c62a6c0",
   "metadata": {},
   "outputs": [],
   "source": [
    "'''5.There are three cups on a table, at positions A, B, and C. At the start, there is a ball hidden under the cup at \n",
    "position B.However, I perform several swaps on the cups, which is notated as two letters. For example, if I swap the cups at \n",
    "positions A and B, I could notate this as AB or BA.Create a function that returns the letter position that the ball is at, once\n",
    "I finish swapping the cups. The swaps will be given to you as a list.'''\n",
    "def cup_swapping(l):\n",
    "    t=\"B\"\n",
    "    for i in l:\n",
    "        n=list(i)\n",
    "        if t in n:\n",
    "            n.remove(t)\n",
    "            t=n[0]\n",
    "    return t "
   ]
  },
  {
   "cell_type": "code",
   "execution_count": 20,
   "id": "78a62d7b",
   "metadata": {},
   "outputs": [
    {
     "data": {
      "text/plain": [
       "'C'"
      ]
     },
     "execution_count": 20,
     "metadata": {},
     "output_type": "execute_result"
    }
   ],
   "source": [
    "cup_swapping([\"AB\",\"CA\",\"AB\"])"
   ]
  }
 ],
 "metadata": {
  "kernelspec": {
   "display_name": "Python 3 (ipykernel)",
   "language": "python",
   "name": "python3"
  },
  "language_info": {
   "codemirror_mode": {
    "name": "ipython",
    "version": 3
   },
   "file_extension": ".py",
   "mimetype": "text/x-python",
   "name": "python",
   "nbconvert_exporter": "python",
   "pygments_lexer": "ipython3",
   "version": "3.10.9"
  }
 },
 "nbformat": 4,
 "nbformat_minor": 5
}
